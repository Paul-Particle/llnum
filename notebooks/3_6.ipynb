{
 "cells": [
  {
   "cell_type": "code",
   "execution_count": 1,
   "metadata": {},
   "outputs": [],
   "source": [
    "import numpy as np"
   ]
  },
  {
   "cell_type": "code",
   "execution_count": 2,
   "metadata": {},
   "outputs": [],
   "source": [
    "def midpoint(f, a, b, n):\n",
    "    h = (b-a)/n\n",
    "    x = np.linspace(a+h/2.0, b-h/2.0, n)\n",
    "    return h*f(x).sum()"
   ]
  },
  {
   "cell_type": "code",
   "execution_count": 6,
   "metadata": {},
   "outputs": [],
   "source": [
    "def midpoint_double(f, a, b, c, d, n_x, n_y):\n",
    "    def g(x):\n",
    "        return midpoint(lambda y: f(x,y), c, d, n_y)\n",
    "    return midpoint(g, a, b, n_x)"
   ]
  },
  {
   "cell_type": "code",
   "execution_count": 7,
   "metadata": {},
   "outputs": [],
   "source": [
    "def f(x, y):\n",
    "    return 2*x + y\n"
   ]
  },
  {
   "cell_type": "code",
   "execution_count": 8,
   "metadata": {},
   "outputs": [
    {
     "data": {
      "text/plain": [
       "1.8"
      ]
     },
     "execution_count": 8,
     "metadata": {},
     "output_type": "execute_result"
    }
   ],
   "source": [
    "\n",
    "midpoint_double(f, 0, 2, 2, 3, 5, 5)"
   ]
  },
  {
   "cell_type": "code",
   "execution_count": 9,
   "metadata": {},
   "outputs": [],
   "source": [
    "def test_midpoint_double():\n",
    "    \"\"\"Test that a linear function is integrated exactly.\"\"\"\n",
    "    def f(x, y):\n",
    "        return 2*x + y\n",
    "\n",
    "    a=0; b=2; c=2; d=3\n",
    "    import sympy\n",
    "    x, y = sympy.symbols('x y')\n",
    "    I_expected = sympy.integrate(f(x, y), (x, a, b), (y, c, d)) # Test three cases: nx < ny, nx = ny, nx > ny\n",
    "    for nx, ny in (3, 5), (4, 4), (5, 3):\n",
    "        I_computed = midpoint_double(f, a, b, c, d, nx, ny)\n",
    "        tol = 1E-14\n",
    "        #print I_expected, I_computed1, I_computed2\n",
    "        assert abs(I_computed - I_expected) < tol"
   ]
  },
  {
   "cell_type": "code",
   "execution_count": 1,
   "metadata": {},
   "outputs": [
    {
     "name": "stdout",
     "output_type": "stream",
     "text": [
      "3 5\n",
      "4 4\n",
      "5 3\n"
     ]
    }
   ],
   "source": [
    "for nx, ny in (3, 5), (4, 4), (5, 3):\n",
    "    print(nx, ny)\n"
   ]
  },
  {
   "cell_type": "code",
   "execution_count": null,
   "metadata": {},
   "outputs": [],
   "source": []
  }
 ],
 "metadata": {
  "kernelspec": {
   "display_name": "llnum",
   "language": "python",
   "name": "python3"
  },
  "language_info": {
   "codemirror_mode": {
    "name": "ipython",
    "version": 3
   },
   "file_extension": ".py",
   "mimetype": "text/x-python",
   "name": "python",
   "nbconvert_exporter": "python",
   "pygments_lexer": "ipython3",
   "version": "3.10.12"
  }
 },
 "nbformat": 4,
 "nbformat_minor": 2
}
