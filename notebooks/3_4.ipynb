{
 "cells": [
  {
   "cell_type": "markdown",
   "metadata": {},
   "source": [
    "## Programming for Computations - A Gentle Introduction to Numerical Simulations with Python\n",
    "\n",
    "Notes on: https://hplgit.github.io/Programming-for-Computations/pub/p4c/p4c_Python.pdf"
   ]
  },
  {
   "cell_type": "code",
   "execution_count": 5,
   "metadata": {},
   "outputs": [],
   "source": [
    "import sys \n",
    "sys.path.insert(1,'../')\n",
    "import utils.utils as utils\n",
    "\n",
    "import numpy as np\n",
    "import sympy as sym\n",
    "import plotly.graph_objects as go\n",
    "import plotly.express as px"
   ]
  },
  {
   "cell_type": "markdown",
   "metadata": {},
   "source": [
    "### 3.4.2 Proper test procedures\n",
    "There are three serious ways to test the implementation of numerical methods via unit tests:\n",
    "1. Comparing with hand-computed results in a problem with few arithmetic operations, i.e., small n.\n",
    "2. Solving a problem without numerical errors. We know that the trapezoidal rule must be exact for linear functions. The error produced by the program must then be zero (to machine precision).\n",
    "3. Demonstrating correct convergence rates. A strong test when we can compute exact errors, is to see how fast the error goes to zero as n grows. In the trapezoidal and midpoint rules it is known that the error depends on n as n^−2 as n→∞."
   ]
  },
  {
   "cell_type": "markdown",
   "metadata": {},
   "source": [
    "\n",
    "Numerical integration methods usually have an error that converge to zero as n^−p for some p that depends on the method."
   ]
  },
  {
   "cell_type": "code",
   "execution_count": 6,
   "metadata": {},
   "outputs": [
    {
     "data": {
      "text/plain": [
       "False"
      ]
     },
     "execution_count": 6,
     "metadata": {},
     "output_type": "execute_result"
    }
   ],
   "source": [
    "a, b = 0.1, 0.2\n",
    "expected = 0.3\n",
    "a + b == expected"
   ]
  },
  {
   "cell_type": "code",
   "execution_count": 7,
   "metadata": {},
   "outputs": [
    {
     "data": {
      "text/plain": [
       "True"
      ]
     },
     "execution_count": 7,
     "metadata": {},
     "output_type": "execute_result"
    }
   ],
   "source": [
    "tol = 1E-15\n",
    "diff = abs(a + b - expected)\n",
    "diff < tol"
   ]
  },
  {
   "cell_type": "code",
   "execution_count": 8,
   "metadata": {},
   "outputs": [
    {
     "data": {
      "text/plain": [
       "5.551115123125783e-17"
      ]
     },
     "execution_count": 8,
     "metadata": {},
     "output_type": "execute_result"
    }
   ],
   "source": [
    "diff"
   ]
  },
  {
   "cell_type": "code",
   "execution_count": 9,
   "metadata": {},
   "outputs": [
    {
     "name": "stdout",
     "output_type": "stream",
     "text": [
      "k    Error (~E-(16-k))\n",
      "0     0\n",
      "1     1.77635683940025e-15\n",
      "2     0\n",
      "3    -1.13686837721616e-13\n",
      "4    -1.81898940354586e-12\n",
      "5     0\n",
      "6     1.16415321826935e-10\n",
      "7     1.86264514923096e-09\n",
      "8     0\n",
      "9    -1.19209289550781e-07\n"
     ]
    }
   ],
   "source": [
    "print('k    Error (~E-(16-k))')\n",
    "for k in range(10):\n",
    "    print(f'{k}    {10**k + 0.3 - 0.1 - (10**k +0.1 + 0.2 - 0.1): 1.15g}')"
   ]
  },
  {
   "cell_type": "markdown",
   "metadata": {},
   "source": [
    "This means that the tolerance must be larger if we compute with larger numbers. Setting a proper tolerance therefore requires some experiments to see what level of accuracy one can expect. A way out of this difficulty is to work with **relative instead of absolute differences**. In a relative difference we divide by one of the operands, e.g.:"
   ]
  },
  {
   "cell_type": "code",
   "execution_count": 10,
   "metadata": {},
   "outputs": [
    {
     "name": "stdout",
     "output_type": "stream",
     "text": [
      "k    Error (~E-16)\n",
      "0    -1.19209289515018e-16\n",
      "1    -1.19209289515018e-16\n",
      "2    -1.19209289515018e-16\n",
      "3    -1.19209289515018e-16\n",
      "4    -1.19209289515018e-16\n",
      "5    -1.19209289515018e-16\n",
      "6    -1.19209289515018e-16\n",
      "7    -1.19209289515018e-16\n",
      "8    -1.19209289515018e-16\n",
      "9    -1.19209289515018e-16\n"
     ]
    }
   ],
   "source": [
    "print('k    Error (~E-16)')\n",
    "a = 10**k + 0.3\n",
    "b = 10**k + 0.1 + 0.2\n",
    "for k in range(10):\n",
    "    print(f'{k}    {(a-b)/a: 1.15g}')"
   ]
  },
  {
   "cell_type": "markdown",
   "metadata": {},
   "source": [
    "The requirements to a test function are simple:\n",
    "- the name must start with test_\n",
    "- the test function cannot have any arguments\n",
    "- the tests inside test functions must be boolean expressions\n",
    "- a boolean expression b must be tested with assert b, msg, where\n",
    "msg is an optional object (string or number) to be written out when b is false"
   ]
  },
  {
   "cell_type": "code",
   "execution_count": 11,
   "metadata": {},
   "outputs": [],
   "source": [
    "def add(a, b):\n",
    "    return a + b\n",
    "\n",
    "def test_add():\n",
    "    expected = 1 + 1\n",
    "    computed = add(1, 1)\n",
    "    assert computed == expected, f'1+1={computed: .15g}' \n",
    "\n",
    "def trapezoidal(f, a, b, n):\n",
    "    h = float(b-a)/n\n",
    "    result = 0.5*f(a) + 0.5*f(b)\n",
    "    for i in range(1, n):\n",
    "        result += f(a + i*h)\n",
    "    result *= h\n",
    "    return result"
   ]
  },
  {
   "cell_type": "markdown",
   "metadata": {},
   "source": [
    "Running py.test -s -v will run all tests in all test*.py files in all subdirectories"
   ]
  },
  {
   "cell_type": "markdown",
   "metadata": {},
   "source": [
    "Hand-computed numerical results"
   ]
  },
  {
   "cell_type": "code",
   "execution_count": 12,
   "metadata": {},
   "outputs": [],
   "source": [
    "def test_trapezoidal_one_exact_result():\n",
    "    \"\"\"Compare one hand-computed result.\"\"\"\n",
    "    from math import exp\n",
    "    v = lambda t: 3*(t**2)*exp(t**3)\n",
    "    n=2\n",
    "    computed = trapezoidal(v, 0, 1, n) \n",
    "    expected = 2.463642041244344\n",
    "    error = abs(expected - computed)\n",
    "    tol = 1E-14\n",
    "    success = error < tol\n",
    "    msg = f'error={error} > tol={tol}' \n",
    "    assert success, msg"
   ]
  },
  {
   "cell_type": "markdown",
   "metadata": {},
   "source": [
    "Solving a problem without numerical errors"
   ]
  },
  {
   "cell_type": "code",
   "execution_count": 13,
   "metadata": {},
   "outputs": [],
   "source": [
    "def test_trapezoidal_linear():\n",
    "    \"\"\"Check that linear functions are integrated exactly.\"\"\"\n",
    "    f = lambda x: 6*x - 4\n",
    "    F = lambda x: 3*x**2 - 4*x  # Anti-derivative\n",
    "    a = 1.2\n",
    "    b = 4.4\n",
    "    expected = F(b) - F(a)\n",
    "    tol = 1E-14\n",
    "    for n in 2, 20, 21:\n",
    "        computed = trapezoidal(f, a, b, n)\n",
    "        error = abs(expected - computed)\n",
    "        success = error < tol\n",
    "        msg = f'n={n}, err={error}'\n",
    "        assert success, msg"
   ]
  },
  {
   "cell_type": "markdown",
   "metadata": {},
   "source": [
    "Demonstrating correct convergence rates\n",
    "\n",
    "Computing convergence rates requires somewhat more tedious pro- gramming than the previous tests, but can be applied to more general integrands. The algorithm typically goes like\n",
    "• for i = 0,1,2,...,q\n",
    "– ni = 2i+1\n",
    "– Compute integral with ni intervals – Compute the error Ei\n",
    "– Estimate ri from (3.24) if i > 0"
   ]
  },
  {
   "cell_type": "code",
   "execution_count": 15,
   "metadata": {},
   "outputs": [],
   "source": [
    "def convergence_rates(f, F, a, b, num_experiments=14):\n",
    "    from math import log\n",
    "    from numpy import zeros\n",
    "    expected = F(b) - F(a)\n",
    "    n = zeros(num_experiments, dtype=int)\n",
    "    E = zeros(num_experiments)\n",
    "    r = zeros(num_experiments-1)\n",
    "    for i in range(num_experiments):\n",
    "        n[i] = 2**(i+1)\n",
    "        computed = trapezoidal(f, a, b, n[i])\n",
    "        E[i] = abs(expected - computed)\n",
    "        if i > 0:\n",
    "            r_im1 = log(E[i]/E[i-1])/log(float(n[i])/n[i-1])\n",
    "        r[i-1] = float(f'{r_im1:.2f}') # Truncate to two decimals\n",
    "    return r"
   ]
  }
 ],
 "metadata": {
  "kernelspec": {
   "display_name": "testing_env",
   "language": "python",
   "name": "python3"
  },
  "language_info": {
   "codemirror_mode": {
    "name": "ipython",
    "version": 3
   },
   "file_extension": ".py",
   "mimetype": "text/x-python",
   "name": "python",
   "nbconvert_exporter": "python",
   "pygments_lexer": "ipython3",
   "version": "3.10.12"
  }
 },
 "nbformat": 4,
 "nbformat_minor": 2
}
